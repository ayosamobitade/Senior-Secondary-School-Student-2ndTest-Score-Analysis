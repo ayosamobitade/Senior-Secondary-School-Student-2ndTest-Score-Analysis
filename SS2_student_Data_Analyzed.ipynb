{
  "nbformat": 4,
  "nbformat_minor": 0,
  "metadata": {
    "colab": {
      "name": "SS2 student Data Analyzed.ipynb",
      "provenance": [],
      "collapsed_sections": [],
      "authorship_tag": "ABX9TyMksdok0F7G8xyKMjfp5f0j",
      "include_colab_link": true
    },
    "kernelspec": {
      "name": "python3",
      "display_name": "Python 3"
    },
    "language_info": {
      "name": "python"
    }
  },
  "cells": [
    {
      "cell_type": "markdown",
      "metadata": {
        "id": "view-in-github",
        "colab_type": "text"
      },
      "source": [
        "<a href=\"https://colab.research.google.com/github/ayosamobitade/Senior-Secondary-School-Student-2ndTest-Score-Analysis/blob/main/SS2_student_Data_Analyzed.ipynb\" target=\"_parent\"><img src=\"https://colab.research.google.com/assets/colab-badge.svg\" alt=\"Open In Colab\"/></a>"
      ]
    },
    {
      "cell_type": "code",
      "metadata": {
        "id": "jnGXUgVhCWKC"
      },
      "source": [
        "# import libraries\n",
        "import pandas as pd\n",
        "import numpy as np\n",
        "import matplotlib.pyplot as plt\n",
        "import seaborn as sns\n",
        "sns.set()"
      ],
      "execution_count": 20,
      "outputs": []
    },
    {
      "cell_type": "code",
      "metadata": {
        "colab": {
          "base_uri": "https://localhost:8080/",
          "height": 407
        },
        "id": "jNX20DY1CZAv",
        "outputId": "be6e1c5a-053e-4335-9781-b8968aa41bcb"
      },
      "source": [
        "# load dataset\n",
        "dataset = pd.read_csv(\"student_score_ss2.csv\")\n",
        "dataset"
      ],
      "execution_count": 2,
      "outputs": [
        {
          "output_type": "execute_result",
          "data": {
            "text/html": [
              "<div>\n",
              "<style scoped>\n",
              "    .dataframe tbody tr th:only-of-type {\n",
              "        vertical-align: middle;\n",
              "    }\n",
              "\n",
              "    .dataframe tbody tr th {\n",
              "        vertical-align: top;\n",
              "    }\n",
              "\n",
              "    .dataframe thead th {\n",
              "        text-align: right;\n",
              "    }\n",
              "</style>\n",
              "<table border=\"1\" class=\"dataframe\">\n",
              "  <thead>\n",
              "    <tr style=\"text-align: right;\">\n",
              "      <th></th>\n",
              "      <th>name</th>\n",
              "      <th>biology</th>\n",
              "      <th>chemistry</th>\n",
              "      <th>math</th>\n",
              "      <th>physics</th>\n",
              "    </tr>\n",
              "  </thead>\n",
              "  <tbody>\n",
              "    <tr>\n",
              "      <th>0</th>\n",
              "      <td>grace</td>\n",
              "      <td>16.0</td>\n",
              "      <td>15</td>\n",
              "      <td>10.5</td>\n",
              "      <td>18.0</td>\n",
              "    </tr>\n",
              "    <tr>\n",
              "      <th>1</th>\n",
              "      <td>shade</td>\n",
              "      <td>16.5</td>\n",
              "      <td>13</td>\n",
              "      <td>9.0</td>\n",
              "      <td>18.0</td>\n",
              "    </tr>\n",
              "    <tr>\n",
              "      <th>2</th>\n",
              "      <td>ajoke</td>\n",
              "      <td>6.0</td>\n",
              "      <td>12</td>\n",
              "      <td>7.0</td>\n",
              "      <td>10.0</td>\n",
              "    </tr>\n",
              "    <tr>\n",
              "      <th>3</th>\n",
              "      <td>jeremiah</td>\n",
              "      <td>9.0</td>\n",
              "      <td>10</td>\n",
              "      <td>5.0</td>\n",
              "      <td>12.0</td>\n",
              "    </tr>\n",
              "    <tr>\n",
              "      <th>4</th>\n",
              "      <td>al-hassan</td>\n",
              "      <td>19.0</td>\n",
              "      <td>15</td>\n",
              "      <td>10.0</td>\n",
              "      <td>18.0</td>\n",
              "    </tr>\n",
              "    <tr>\n",
              "      <th>5</th>\n",
              "      <td>peace</td>\n",
              "      <td>12.5</td>\n",
              "      <td>13</td>\n",
              "      <td>8.0</td>\n",
              "      <td>10.5</td>\n",
              "    </tr>\n",
              "    <tr>\n",
              "      <th>6</th>\n",
              "      <td>aishat</td>\n",
              "      <td>10.0</td>\n",
              "      <td>12</td>\n",
              "      <td>7.0</td>\n",
              "      <td>14.5</td>\n",
              "    </tr>\n",
              "    <tr>\n",
              "      <th>7</th>\n",
              "      <td>tomiwa</td>\n",
              "      <td>16.0</td>\n",
              "      <td>9</td>\n",
              "      <td>5.0</td>\n",
              "      <td>15.0</td>\n",
              "    </tr>\n",
              "    <tr>\n",
              "      <th>8</th>\n",
              "      <td>ayomide</td>\n",
              "      <td>8.0</td>\n",
              "      <td>8</td>\n",
              "      <td>7.0</td>\n",
              "      <td>16.5</td>\n",
              "    </tr>\n",
              "    <tr>\n",
              "      <th>9</th>\n",
              "      <td>shallom</td>\n",
              "      <td>10.0</td>\n",
              "      <td>8</td>\n",
              "      <td>7.0</td>\n",
              "      <td>16.0</td>\n",
              "    </tr>\n",
              "    <tr>\n",
              "      <th>10</th>\n",
              "      <td>joshua</td>\n",
              "      <td>7.0</td>\n",
              "      <td>6</td>\n",
              "      <td>6.0</td>\n",
              "      <td>9.0</td>\n",
              "    </tr>\n",
              "    <tr>\n",
              "      <th>11</th>\n",
              "      <td>ezekiel</td>\n",
              "      <td>5.0</td>\n",
              "      <td>10</td>\n",
              "      <td>7.0</td>\n",
              "      <td>5.0</td>\n",
              "    </tr>\n",
              "  </tbody>\n",
              "</table>\n",
              "</div>"
            ],
            "text/plain": [
              "         name  biology  chemistry  math  physics\n",
              "0       grace     16.0         15  10.5     18.0\n",
              "1       shade     16.5         13   9.0     18.0\n",
              "2       ajoke      6.0         12   7.0     10.0\n",
              "3    jeremiah      9.0         10   5.0     12.0\n",
              "4   al-hassan     19.0         15  10.0     18.0\n",
              "5       peace     12.5         13   8.0     10.5\n",
              "6      aishat     10.0         12   7.0     14.5\n",
              "7      tomiwa     16.0          9   5.0     15.0\n",
              "8     ayomide      8.0          8   7.0     16.5\n",
              "9     shallom     10.0          8   7.0     16.0\n",
              "10     joshua      7.0          6   6.0      9.0\n",
              "11    ezekiel      5.0         10   7.0      5.0"
            ]
          },
          "metadata": {
            "tags": []
          },
          "execution_count": 2
        }
      ]
    },
    {
      "cell_type": "code",
      "metadata": {
        "id": "RoFPQJqfCcvA"
      },
      "source": [
        "# add vertical sum summary to dataset\n",
        "dataset[\"sum_all_subject\"] = dataset.iloc[:,1:6].sum(axis=1)"
      ],
      "execution_count": 3,
      "outputs": []
    },
    {
      "cell_type": "code",
      "metadata": {
        "colab": {
          "base_uri": "https://localhost:8080/",
          "height": 407
        },
        "id": "pTyISIGXCfue",
        "outputId": "6be45fab-3572-43fb-8355-b81d273bdb6b"
      },
      "source": [
        "#check the dataset\n",
        "dataset"
      ],
      "execution_count": 4,
      "outputs": [
        {
          "output_type": "execute_result",
          "data": {
            "text/html": [
              "<div>\n",
              "<style scoped>\n",
              "    .dataframe tbody tr th:only-of-type {\n",
              "        vertical-align: middle;\n",
              "    }\n",
              "\n",
              "    .dataframe tbody tr th {\n",
              "        vertical-align: top;\n",
              "    }\n",
              "\n",
              "    .dataframe thead th {\n",
              "        text-align: right;\n",
              "    }\n",
              "</style>\n",
              "<table border=\"1\" class=\"dataframe\">\n",
              "  <thead>\n",
              "    <tr style=\"text-align: right;\">\n",
              "      <th></th>\n",
              "      <th>name</th>\n",
              "      <th>biology</th>\n",
              "      <th>chemistry</th>\n",
              "      <th>math</th>\n",
              "      <th>physics</th>\n",
              "      <th>sum_all_subject</th>\n",
              "    </tr>\n",
              "  </thead>\n",
              "  <tbody>\n",
              "    <tr>\n",
              "      <th>0</th>\n",
              "      <td>grace</td>\n",
              "      <td>16.0</td>\n",
              "      <td>15</td>\n",
              "      <td>10.5</td>\n",
              "      <td>18.0</td>\n",
              "      <td>59.5</td>\n",
              "    </tr>\n",
              "    <tr>\n",
              "      <th>1</th>\n",
              "      <td>shade</td>\n",
              "      <td>16.5</td>\n",
              "      <td>13</td>\n",
              "      <td>9.0</td>\n",
              "      <td>18.0</td>\n",
              "      <td>56.5</td>\n",
              "    </tr>\n",
              "    <tr>\n",
              "      <th>2</th>\n",
              "      <td>ajoke</td>\n",
              "      <td>6.0</td>\n",
              "      <td>12</td>\n",
              "      <td>7.0</td>\n",
              "      <td>10.0</td>\n",
              "      <td>35.0</td>\n",
              "    </tr>\n",
              "    <tr>\n",
              "      <th>3</th>\n",
              "      <td>jeremiah</td>\n",
              "      <td>9.0</td>\n",
              "      <td>10</td>\n",
              "      <td>5.0</td>\n",
              "      <td>12.0</td>\n",
              "      <td>36.0</td>\n",
              "    </tr>\n",
              "    <tr>\n",
              "      <th>4</th>\n",
              "      <td>al-hassan</td>\n",
              "      <td>19.0</td>\n",
              "      <td>15</td>\n",
              "      <td>10.0</td>\n",
              "      <td>18.0</td>\n",
              "      <td>62.0</td>\n",
              "    </tr>\n",
              "    <tr>\n",
              "      <th>5</th>\n",
              "      <td>peace</td>\n",
              "      <td>12.5</td>\n",
              "      <td>13</td>\n",
              "      <td>8.0</td>\n",
              "      <td>10.5</td>\n",
              "      <td>44.0</td>\n",
              "    </tr>\n",
              "    <tr>\n",
              "      <th>6</th>\n",
              "      <td>aishat</td>\n",
              "      <td>10.0</td>\n",
              "      <td>12</td>\n",
              "      <td>7.0</td>\n",
              "      <td>14.5</td>\n",
              "      <td>43.5</td>\n",
              "    </tr>\n",
              "    <tr>\n",
              "      <th>7</th>\n",
              "      <td>tomiwa</td>\n",
              "      <td>16.0</td>\n",
              "      <td>9</td>\n",
              "      <td>5.0</td>\n",
              "      <td>15.0</td>\n",
              "      <td>45.0</td>\n",
              "    </tr>\n",
              "    <tr>\n",
              "      <th>8</th>\n",
              "      <td>ayomide</td>\n",
              "      <td>8.0</td>\n",
              "      <td>8</td>\n",
              "      <td>7.0</td>\n",
              "      <td>16.5</td>\n",
              "      <td>39.5</td>\n",
              "    </tr>\n",
              "    <tr>\n",
              "      <th>9</th>\n",
              "      <td>shallom</td>\n",
              "      <td>10.0</td>\n",
              "      <td>8</td>\n",
              "      <td>7.0</td>\n",
              "      <td>16.0</td>\n",
              "      <td>41.0</td>\n",
              "    </tr>\n",
              "    <tr>\n",
              "      <th>10</th>\n",
              "      <td>joshua</td>\n",
              "      <td>7.0</td>\n",
              "      <td>6</td>\n",
              "      <td>6.0</td>\n",
              "      <td>9.0</td>\n",
              "      <td>28.0</td>\n",
              "    </tr>\n",
              "    <tr>\n",
              "      <th>11</th>\n",
              "      <td>ezekiel</td>\n",
              "      <td>5.0</td>\n",
              "      <td>10</td>\n",
              "      <td>7.0</td>\n",
              "      <td>5.0</td>\n",
              "      <td>27.0</td>\n",
              "    </tr>\n",
              "  </tbody>\n",
              "</table>\n",
              "</div>"
            ],
            "text/plain": [
              "         name  biology  chemistry  math  physics  sum_all_subject\n",
              "0       grace     16.0         15  10.5     18.0             59.5\n",
              "1       shade     16.5         13   9.0     18.0             56.5\n",
              "2       ajoke      6.0         12   7.0     10.0             35.0\n",
              "3    jeremiah      9.0         10   5.0     12.0             36.0\n",
              "4   al-hassan     19.0         15  10.0     18.0             62.0\n",
              "5       peace     12.5         13   8.0     10.5             44.0\n",
              "6      aishat     10.0         12   7.0     14.5             43.5\n",
              "7      tomiwa     16.0          9   5.0     15.0             45.0\n",
              "8     ayomide      8.0          8   7.0     16.5             39.5\n",
              "9     shallom     10.0          8   7.0     16.0             41.0\n",
              "10     joshua      7.0          6   6.0      9.0             28.0\n",
              "11    ezekiel      5.0         10   7.0      5.0             27.0"
            ]
          },
          "metadata": {
            "tags": []
          },
          "execution_count": 4
        }
      ]
    },
    {
      "cell_type": "code",
      "metadata": {
        "id": "L7sYP-_MCkw1"
      },
      "source": [
        "#add vertical average to the data set\n",
        "dataset[\"all_subjects_avrg\"] = dataset.iloc[:,1:5].mean(axis = 1)"
      ],
      "execution_count": 5,
      "outputs": []
    },
    {
      "cell_type": "code",
      "metadata": {
        "colab": {
          "base_uri": "https://localhost:8080/",
          "height": 407
        },
        "id": "tRx9Qg00Cnot",
        "outputId": "7b81a9e9-559d-415d-8674-34031bb5204d"
      },
      "source": [
        "#check the dataset\n",
        "dataset"
      ],
      "execution_count": 6,
      "outputs": [
        {
          "output_type": "execute_result",
          "data": {
            "text/html": [
              "<div>\n",
              "<style scoped>\n",
              "    .dataframe tbody tr th:only-of-type {\n",
              "        vertical-align: middle;\n",
              "    }\n",
              "\n",
              "    .dataframe tbody tr th {\n",
              "        vertical-align: top;\n",
              "    }\n",
              "\n",
              "    .dataframe thead th {\n",
              "        text-align: right;\n",
              "    }\n",
              "</style>\n",
              "<table border=\"1\" class=\"dataframe\">\n",
              "  <thead>\n",
              "    <tr style=\"text-align: right;\">\n",
              "      <th></th>\n",
              "      <th>name</th>\n",
              "      <th>biology</th>\n",
              "      <th>chemistry</th>\n",
              "      <th>math</th>\n",
              "      <th>physics</th>\n",
              "      <th>sum_all_subject</th>\n",
              "      <th>all_subjects_avrg</th>\n",
              "    </tr>\n",
              "  </thead>\n",
              "  <tbody>\n",
              "    <tr>\n",
              "      <th>0</th>\n",
              "      <td>grace</td>\n",
              "      <td>16.0</td>\n",
              "      <td>15</td>\n",
              "      <td>10.5</td>\n",
              "      <td>18.0</td>\n",
              "      <td>59.5</td>\n",
              "      <td>14.875</td>\n",
              "    </tr>\n",
              "    <tr>\n",
              "      <th>1</th>\n",
              "      <td>shade</td>\n",
              "      <td>16.5</td>\n",
              "      <td>13</td>\n",
              "      <td>9.0</td>\n",
              "      <td>18.0</td>\n",
              "      <td>56.5</td>\n",
              "      <td>14.125</td>\n",
              "    </tr>\n",
              "    <tr>\n",
              "      <th>2</th>\n",
              "      <td>ajoke</td>\n",
              "      <td>6.0</td>\n",
              "      <td>12</td>\n",
              "      <td>7.0</td>\n",
              "      <td>10.0</td>\n",
              "      <td>35.0</td>\n",
              "      <td>8.750</td>\n",
              "    </tr>\n",
              "    <tr>\n",
              "      <th>3</th>\n",
              "      <td>jeremiah</td>\n",
              "      <td>9.0</td>\n",
              "      <td>10</td>\n",
              "      <td>5.0</td>\n",
              "      <td>12.0</td>\n",
              "      <td>36.0</td>\n",
              "      <td>9.000</td>\n",
              "    </tr>\n",
              "    <tr>\n",
              "      <th>4</th>\n",
              "      <td>al-hassan</td>\n",
              "      <td>19.0</td>\n",
              "      <td>15</td>\n",
              "      <td>10.0</td>\n",
              "      <td>18.0</td>\n",
              "      <td>62.0</td>\n",
              "      <td>15.500</td>\n",
              "    </tr>\n",
              "    <tr>\n",
              "      <th>5</th>\n",
              "      <td>peace</td>\n",
              "      <td>12.5</td>\n",
              "      <td>13</td>\n",
              "      <td>8.0</td>\n",
              "      <td>10.5</td>\n",
              "      <td>44.0</td>\n",
              "      <td>11.000</td>\n",
              "    </tr>\n",
              "    <tr>\n",
              "      <th>6</th>\n",
              "      <td>aishat</td>\n",
              "      <td>10.0</td>\n",
              "      <td>12</td>\n",
              "      <td>7.0</td>\n",
              "      <td>14.5</td>\n",
              "      <td>43.5</td>\n",
              "      <td>10.875</td>\n",
              "    </tr>\n",
              "    <tr>\n",
              "      <th>7</th>\n",
              "      <td>tomiwa</td>\n",
              "      <td>16.0</td>\n",
              "      <td>9</td>\n",
              "      <td>5.0</td>\n",
              "      <td>15.0</td>\n",
              "      <td>45.0</td>\n",
              "      <td>11.250</td>\n",
              "    </tr>\n",
              "    <tr>\n",
              "      <th>8</th>\n",
              "      <td>ayomide</td>\n",
              "      <td>8.0</td>\n",
              "      <td>8</td>\n",
              "      <td>7.0</td>\n",
              "      <td>16.5</td>\n",
              "      <td>39.5</td>\n",
              "      <td>9.875</td>\n",
              "    </tr>\n",
              "    <tr>\n",
              "      <th>9</th>\n",
              "      <td>shallom</td>\n",
              "      <td>10.0</td>\n",
              "      <td>8</td>\n",
              "      <td>7.0</td>\n",
              "      <td>16.0</td>\n",
              "      <td>41.0</td>\n",
              "      <td>10.250</td>\n",
              "    </tr>\n",
              "    <tr>\n",
              "      <th>10</th>\n",
              "      <td>joshua</td>\n",
              "      <td>7.0</td>\n",
              "      <td>6</td>\n",
              "      <td>6.0</td>\n",
              "      <td>9.0</td>\n",
              "      <td>28.0</td>\n",
              "      <td>7.000</td>\n",
              "    </tr>\n",
              "    <tr>\n",
              "      <th>11</th>\n",
              "      <td>ezekiel</td>\n",
              "      <td>5.0</td>\n",
              "      <td>10</td>\n",
              "      <td>7.0</td>\n",
              "      <td>5.0</td>\n",
              "      <td>27.0</td>\n",
              "      <td>6.750</td>\n",
              "    </tr>\n",
              "  </tbody>\n",
              "</table>\n",
              "</div>"
            ],
            "text/plain": [
              "         name  biology  chemistry  ...  physics  sum_all_subject  all_subjects_avrg\n",
              "0       grace     16.0         15  ...     18.0             59.5             14.875\n",
              "1       shade     16.5         13  ...     18.0             56.5             14.125\n",
              "2       ajoke      6.0         12  ...     10.0             35.0              8.750\n",
              "3    jeremiah      9.0         10  ...     12.0             36.0              9.000\n",
              "4   al-hassan     19.0         15  ...     18.0             62.0             15.500\n",
              "5       peace     12.5         13  ...     10.5             44.0             11.000\n",
              "6      aishat     10.0         12  ...     14.5             43.5             10.875\n",
              "7      tomiwa     16.0          9  ...     15.0             45.0             11.250\n",
              "8     ayomide      8.0          8  ...     16.5             39.5              9.875\n",
              "9     shallom     10.0          8  ...     16.0             41.0             10.250\n",
              "10     joshua      7.0          6  ...      9.0             28.0              7.000\n",
              "11    ezekiel      5.0         10  ...      5.0             27.0              6.750\n",
              "\n",
              "[12 rows x 7 columns]"
            ]
          },
          "metadata": {
            "tags": []
          },
          "execution_count": 6
        }
      ]
    },
    {
      "cell_type": "code",
      "metadata": {
        "colab": {
          "base_uri": "https://localhost:8080/"
        },
        "id": "tu5YASdeCqve",
        "outputId": "5794066d-09c5-4aaa-94e4-6a8d5c0cd2be"
      },
      "source": [
        "#student total out of 140 expected on each subject \n",
        "dataset.iloc[:,1:8].sum()"
      ],
      "execution_count": 7,
      "outputs": [
        {
          "output_type": "execute_result",
          "data": {
            "text/plain": [
              "biology              135.00\n",
              "chemistry            131.00\n",
              "math                  88.50\n",
              "physics              162.50\n",
              "sum_all_subject      517.00\n",
              "all_subjects_avrg    129.25\n",
              "dtype: float64"
            ]
          },
          "metadata": {
            "tags": []
          },
          "execution_count": 7
        }
      ]
    },
    {
      "cell_type": "code",
      "metadata": {
        "colab": {
          "base_uri": "https://localhost:8080/",
          "height": 221
        },
        "id": "ZSpgm7SDCr7U",
        "outputId": "c2c51831-8e36-4ab2-bde8-011e7fb0db0c"
      },
      "source": [
        "# append vertical summary to dataset along the x-axis\n",
        "dataset_with_sum = dataset1.append(dataset.sum(), ignore_index = True)\n",
        "dataset_with_sum.iloc[-1,0] = \"Total score\"\n",
        "dataset_with_sum"
      ],
      "execution_count": 8,
      "outputs": [
        {
          "output_type": "error",
          "ename": "NameError",
          "evalue": "ignored",
          "traceback": [
            "\u001b[0;31m---------------------------------------------------------------------------\u001b[0m",
            "\u001b[0;31mNameError\u001b[0m                                 Traceback (most recent call last)",
            "\u001b[0;32m<ipython-input-8-641a97a415d0>\u001b[0m in \u001b[0;36m<module>\u001b[0;34m()\u001b[0m\n\u001b[1;32m      1\u001b[0m \u001b[0;31m# append vertical summary to dataset along the x-axis\u001b[0m\u001b[0;34m\u001b[0m\u001b[0;34m\u001b[0m\u001b[0;34m\u001b[0m\u001b[0m\n\u001b[0;32m----> 2\u001b[0;31m \u001b[0mdataset_with_sum\u001b[0m \u001b[0;34m=\u001b[0m \u001b[0mdataset1\u001b[0m\u001b[0;34m.\u001b[0m\u001b[0mappend\u001b[0m\u001b[0;34m(\u001b[0m\u001b[0mdataset\u001b[0m\u001b[0;34m.\u001b[0m\u001b[0msum\u001b[0m\u001b[0;34m(\u001b[0m\u001b[0;34m)\u001b[0m\u001b[0;34m,\u001b[0m \u001b[0mignore_index\u001b[0m \u001b[0;34m=\u001b[0m \u001b[0;32mTrue\u001b[0m\u001b[0;34m)\u001b[0m\u001b[0;34m\u001b[0m\u001b[0;34m\u001b[0m\u001b[0m\n\u001b[0m\u001b[1;32m      3\u001b[0m \u001b[0mdataset_with_sum\u001b[0m\u001b[0;34m.\u001b[0m\u001b[0miloc\u001b[0m\u001b[0;34m[\u001b[0m\u001b[0;34m-\u001b[0m\u001b[0;36m1\u001b[0m\u001b[0;34m,\u001b[0m\u001b[0;36m0\u001b[0m\u001b[0;34m]\u001b[0m \u001b[0;34m=\u001b[0m \u001b[0;34m\"Total score\"\u001b[0m\u001b[0;34m\u001b[0m\u001b[0;34m\u001b[0m\u001b[0m\n\u001b[1;32m      4\u001b[0m \u001b[0mdataset_with_sum\u001b[0m\u001b[0;34m\u001b[0m\u001b[0;34m\u001b[0m\u001b[0m\n",
            "\u001b[0;31mNameError\u001b[0m: name 'dataset1' is not defined"
          ]
        }
      ]
    },
    {
      "cell_type": "code",
      "metadata": {
        "colab": {
          "base_uri": "https://localhost:8080/",
          "height": 107
        },
        "id": "bdgdR1HPCvHw",
        "outputId": "d5e8cd21-885c-41b4-a74e-a66d518b6def"
      },
      "source": [
        "# top scorer(s) student in chemistry\n",
        "top_chemistry_score = dataset.chemistry.max()\n",
        "top_chemistry = dataset[dataset.chemistry == top_chemistry_score]\n",
        "top_chemistry[[\"name\", \"chemistry\"]]"
      ],
      "execution_count": 9,
      "outputs": [
        {
          "output_type": "execute_result",
          "data": {
            "text/html": [
              "<div>\n",
              "<style scoped>\n",
              "    .dataframe tbody tr th:only-of-type {\n",
              "        vertical-align: middle;\n",
              "    }\n",
              "\n",
              "    .dataframe tbody tr th {\n",
              "        vertical-align: top;\n",
              "    }\n",
              "\n",
              "    .dataframe thead th {\n",
              "        text-align: right;\n",
              "    }\n",
              "</style>\n",
              "<table border=\"1\" class=\"dataframe\">\n",
              "  <thead>\n",
              "    <tr style=\"text-align: right;\">\n",
              "      <th></th>\n",
              "      <th>name</th>\n",
              "      <th>chemistry</th>\n",
              "    </tr>\n",
              "  </thead>\n",
              "  <tbody>\n",
              "    <tr>\n",
              "      <th>0</th>\n",
              "      <td>grace</td>\n",
              "      <td>15</td>\n",
              "    </tr>\n",
              "    <tr>\n",
              "      <th>4</th>\n",
              "      <td>al-hassan</td>\n",
              "      <td>15</td>\n",
              "    </tr>\n",
              "  </tbody>\n",
              "</table>\n",
              "</div>"
            ],
            "text/plain": [
              "        name  chemistry\n",
              "0      grace         15\n",
              "4  al-hassan         15"
            ]
          },
          "metadata": {
            "tags": []
          },
          "execution_count": 9
        }
      ]
    },
    {
      "cell_type": "code",
      "metadata": {
        "colab": {
          "base_uri": "https://localhost:8080/",
          "height": 77
        },
        "id": "G1Y7gbV4Cyc_",
        "outputId": "8d2e7e9e-2047-461c-fa1e-3c750c2a439e"
      },
      "source": [
        "# top scorer(s) student in biology\n",
        "top_biology_score = dataset.biology.max()\n",
        "top_biology = dataset[dataset.biology == top_biology_score]\n",
        "top_biology[[\"name\", \"biology\"]]"
      ],
      "execution_count": 10,
      "outputs": [
        {
          "output_type": "execute_result",
          "data": {
            "text/html": [
              "<div>\n",
              "<style scoped>\n",
              "    .dataframe tbody tr th:only-of-type {\n",
              "        vertical-align: middle;\n",
              "    }\n",
              "\n",
              "    .dataframe tbody tr th {\n",
              "        vertical-align: top;\n",
              "    }\n",
              "\n",
              "    .dataframe thead th {\n",
              "        text-align: right;\n",
              "    }\n",
              "</style>\n",
              "<table border=\"1\" class=\"dataframe\">\n",
              "  <thead>\n",
              "    <tr style=\"text-align: right;\">\n",
              "      <th></th>\n",
              "      <th>name</th>\n",
              "      <th>biology</th>\n",
              "    </tr>\n",
              "  </thead>\n",
              "  <tbody>\n",
              "    <tr>\n",
              "      <th>4</th>\n",
              "      <td>al-hassan</td>\n",
              "      <td>19.0</td>\n",
              "    </tr>\n",
              "  </tbody>\n",
              "</table>\n",
              "</div>"
            ],
            "text/plain": [
              "        name  biology\n",
              "4  al-hassan     19.0"
            ]
          },
          "metadata": {
            "tags": []
          },
          "execution_count": 10
        }
      ]
    },
    {
      "cell_type": "code",
      "metadata": {
        "colab": {
          "base_uri": "https://localhost:8080/",
          "height": 137
        },
        "id": "7OmQ9-EgC2tc",
        "outputId": "15bf6232-930f-448c-ee0f-3487f7c17c88"
      },
      "source": [
        "# top scorer(s) student in physics\n",
        "top_physics_score = dataset.physics.max()\n",
        "top_physics = dataset[dataset.physics == top_physics_score]\n",
        "top_physics[[\"name\", \"physics\"]]"
      ],
      "execution_count": 11,
      "outputs": [
        {
          "output_type": "execute_result",
          "data": {
            "text/html": [
              "<div>\n",
              "<style scoped>\n",
              "    .dataframe tbody tr th:only-of-type {\n",
              "        vertical-align: middle;\n",
              "    }\n",
              "\n",
              "    .dataframe tbody tr th {\n",
              "        vertical-align: top;\n",
              "    }\n",
              "\n",
              "    .dataframe thead th {\n",
              "        text-align: right;\n",
              "    }\n",
              "</style>\n",
              "<table border=\"1\" class=\"dataframe\">\n",
              "  <thead>\n",
              "    <tr style=\"text-align: right;\">\n",
              "      <th></th>\n",
              "      <th>name</th>\n",
              "      <th>physics</th>\n",
              "    </tr>\n",
              "  </thead>\n",
              "  <tbody>\n",
              "    <tr>\n",
              "      <th>0</th>\n",
              "      <td>grace</td>\n",
              "      <td>18.0</td>\n",
              "    </tr>\n",
              "    <tr>\n",
              "      <th>1</th>\n",
              "      <td>shade</td>\n",
              "      <td>18.0</td>\n",
              "    </tr>\n",
              "    <tr>\n",
              "      <th>4</th>\n",
              "      <td>al-hassan</td>\n",
              "      <td>18.0</td>\n",
              "    </tr>\n",
              "  </tbody>\n",
              "</table>\n",
              "</div>"
            ],
            "text/plain": [
              "        name  physics\n",
              "0      grace     18.0\n",
              "1      shade     18.0\n",
              "4  al-hassan     18.0"
            ]
          },
          "metadata": {
            "tags": []
          },
          "execution_count": 11
        }
      ]
    },
    {
      "cell_type": "code",
      "metadata": {
        "colab": {
          "base_uri": "https://localhost:8080/",
          "height": 77
        },
        "id": "hx_mvmriC6Lc",
        "outputId": "68d1ce88-be15-4de6-ee59-ffd31c561868"
      },
      "source": [
        "# top scorer(s) student in math\n",
        "top_math_score = dataset.math.max()\n",
        "top_math = dataset[dataset.math == top_math_score]\n",
        "top_math[[\"name\",\"math\"]]"
      ],
      "execution_count": 12,
      "outputs": [
        {
          "output_type": "execute_result",
          "data": {
            "text/html": [
              "<div>\n",
              "<style scoped>\n",
              "    .dataframe tbody tr th:only-of-type {\n",
              "        vertical-align: middle;\n",
              "    }\n",
              "\n",
              "    .dataframe tbody tr th {\n",
              "        vertical-align: top;\n",
              "    }\n",
              "\n",
              "    .dataframe thead th {\n",
              "        text-align: right;\n",
              "    }\n",
              "</style>\n",
              "<table border=\"1\" class=\"dataframe\">\n",
              "  <thead>\n",
              "    <tr style=\"text-align: right;\">\n",
              "      <th></th>\n",
              "      <th>name</th>\n",
              "      <th>math</th>\n",
              "    </tr>\n",
              "  </thead>\n",
              "  <tbody>\n",
              "    <tr>\n",
              "      <th>0</th>\n",
              "      <td>grace</td>\n",
              "      <td>10.5</td>\n",
              "    </tr>\n",
              "  </tbody>\n",
              "</table>\n",
              "</div>"
            ],
            "text/plain": [
              "    name  math\n",
              "0  grace  10.5"
            ]
          },
          "metadata": {
            "tags": []
          },
          "execution_count": 12
        }
      ]
    },
    {
      "cell_type": "code",
      "metadata": {
        "colab": {
          "base_uri": "https://localhost:8080/",
          "height": 77
        },
        "id": "CYK2mbxFC9xV",
        "outputId": "6cc98d7d-753d-4d92-bb72-78e729d18ad7"
      },
      "source": [
        "# top scorer(s) student in all subject\n",
        "top_all_score = dataset.sum_all_subject.max()\n",
        "top_all = dataset[dataset.sum_all_subject == top_all_score]\n",
        "top_all[[\"name\",\"sum_all_subject\"]]"
      ],
      "execution_count": 13,
      "outputs": [
        {
          "output_type": "execute_result",
          "data": {
            "text/html": [
              "<div>\n",
              "<style scoped>\n",
              "    .dataframe tbody tr th:only-of-type {\n",
              "        vertical-align: middle;\n",
              "    }\n",
              "\n",
              "    .dataframe tbody tr th {\n",
              "        vertical-align: top;\n",
              "    }\n",
              "\n",
              "    .dataframe thead th {\n",
              "        text-align: right;\n",
              "    }\n",
              "</style>\n",
              "<table border=\"1\" class=\"dataframe\">\n",
              "  <thead>\n",
              "    <tr style=\"text-align: right;\">\n",
              "      <th></th>\n",
              "      <th>name</th>\n",
              "      <th>sum_all_subject</th>\n",
              "    </tr>\n",
              "  </thead>\n",
              "  <tbody>\n",
              "    <tr>\n",
              "      <th>4</th>\n",
              "      <td>al-hassan</td>\n",
              "      <td>62.0</td>\n",
              "    </tr>\n",
              "  </tbody>\n",
              "</table>\n",
              "</div>"
            ],
            "text/plain": [
              "        name  sum_all_subject\n",
              "4  al-hassan             62.0"
            ]
          },
          "metadata": {
            "tags": []
          },
          "execution_count": 13
        }
      ]
    },
    {
      "cell_type": "code",
      "metadata": {
        "colab": {
          "base_uri": "https://localhost:8080/",
          "height": 407
        },
        "id": "Fg86I11ODCwl",
        "outputId": "6a126ff5-dc0d-4766-8cfc-e946db44526b"
      },
      "source": [
        "# getting a copy of the dataset\n",
        "dataset1 = dataset.copy()\n",
        "dataset1"
      ],
      "execution_count": 14,
      "outputs": [
        {
          "output_type": "execute_result",
          "data": {
            "text/html": [
              "<div>\n",
              "<style scoped>\n",
              "    .dataframe tbody tr th:only-of-type {\n",
              "        vertical-align: middle;\n",
              "    }\n",
              "\n",
              "    .dataframe tbody tr th {\n",
              "        vertical-align: top;\n",
              "    }\n",
              "\n",
              "    .dataframe thead th {\n",
              "        text-align: right;\n",
              "    }\n",
              "</style>\n",
              "<table border=\"1\" class=\"dataframe\">\n",
              "  <thead>\n",
              "    <tr style=\"text-align: right;\">\n",
              "      <th></th>\n",
              "      <th>name</th>\n",
              "      <th>biology</th>\n",
              "      <th>chemistry</th>\n",
              "      <th>math</th>\n",
              "      <th>physics</th>\n",
              "      <th>sum_all_subject</th>\n",
              "      <th>all_subjects_avrg</th>\n",
              "    </tr>\n",
              "  </thead>\n",
              "  <tbody>\n",
              "    <tr>\n",
              "      <th>0</th>\n",
              "      <td>grace</td>\n",
              "      <td>16.0</td>\n",
              "      <td>15</td>\n",
              "      <td>10.5</td>\n",
              "      <td>18.0</td>\n",
              "      <td>59.5</td>\n",
              "      <td>14.875</td>\n",
              "    </tr>\n",
              "    <tr>\n",
              "      <th>1</th>\n",
              "      <td>shade</td>\n",
              "      <td>16.5</td>\n",
              "      <td>13</td>\n",
              "      <td>9.0</td>\n",
              "      <td>18.0</td>\n",
              "      <td>56.5</td>\n",
              "      <td>14.125</td>\n",
              "    </tr>\n",
              "    <tr>\n",
              "      <th>2</th>\n",
              "      <td>ajoke</td>\n",
              "      <td>6.0</td>\n",
              "      <td>12</td>\n",
              "      <td>7.0</td>\n",
              "      <td>10.0</td>\n",
              "      <td>35.0</td>\n",
              "      <td>8.750</td>\n",
              "    </tr>\n",
              "    <tr>\n",
              "      <th>3</th>\n",
              "      <td>jeremiah</td>\n",
              "      <td>9.0</td>\n",
              "      <td>10</td>\n",
              "      <td>5.0</td>\n",
              "      <td>12.0</td>\n",
              "      <td>36.0</td>\n",
              "      <td>9.000</td>\n",
              "    </tr>\n",
              "    <tr>\n",
              "      <th>4</th>\n",
              "      <td>al-hassan</td>\n",
              "      <td>19.0</td>\n",
              "      <td>15</td>\n",
              "      <td>10.0</td>\n",
              "      <td>18.0</td>\n",
              "      <td>62.0</td>\n",
              "      <td>15.500</td>\n",
              "    </tr>\n",
              "    <tr>\n",
              "      <th>5</th>\n",
              "      <td>peace</td>\n",
              "      <td>12.5</td>\n",
              "      <td>13</td>\n",
              "      <td>8.0</td>\n",
              "      <td>10.5</td>\n",
              "      <td>44.0</td>\n",
              "      <td>11.000</td>\n",
              "    </tr>\n",
              "    <tr>\n",
              "      <th>6</th>\n",
              "      <td>aishat</td>\n",
              "      <td>10.0</td>\n",
              "      <td>12</td>\n",
              "      <td>7.0</td>\n",
              "      <td>14.5</td>\n",
              "      <td>43.5</td>\n",
              "      <td>10.875</td>\n",
              "    </tr>\n",
              "    <tr>\n",
              "      <th>7</th>\n",
              "      <td>tomiwa</td>\n",
              "      <td>16.0</td>\n",
              "      <td>9</td>\n",
              "      <td>5.0</td>\n",
              "      <td>15.0</td>\n",
              "      <td>45.0</td>\n",
              "      <td>11.250</td>\n",
              "    </tr>\n",
              "    <tr>\n",
              "      <th>8</th>\n",
              "      <td>ayomide</td>\n",
              "      <td>8.0</td>\n",
              "      <td>8</td>\n",
              "      <td>7.0</td>\n",
              "      <td>16.5</td>\n",
              "      <td>39.5</td>\n",
              "      <td>9.875</td>\n",
              "    </tr>\n",
              "    <tr>\n",
              "      <th>9</th>\n",
              "      <td>shallom</td>\n",
              "      <td>10.0</td>\n",
              "      <td>8</td>\n",
              "      <td>7.0</td>\n",
              "      <td>16.0</td>\n",
              "      <td>41.0</td>\n",
              "      <td>10.250</td>\n",
              "    </tr>\n",
              "    <tr>\n",
              "      <th>10</th>\n",
              "      <td>joshua</td>\n",
              "      <td>7.0</td>\n",
              "      <td>6</td>\n",
              "      <td>6.0</td>\n",
              "      <td>9.0</td>\n",
              "      <td>28.0</td>\n",
              "      <td>7.000</td>\n",
              "    </tr>\n",
              "    <tr>\n",
              "      <th>11</th>\n",
              "      <td>ezekiel</td>\n",
              "      <td>5.0</td>\n",
              "      <td>10</td>\n",
              "      <td>7.0</td>\n",
              "      <td>5.0</td>\n",
              "      <td>27.0</td>\n",
              "      <td>6.750</td>\n",
              "    </tr>\n",
              "  </tbody>\n",
              "</table>\n",
              "</div>"
            ],
            "text/plain": [
              "         name  biology  chemistry  ...  physics  sum_all_subject  all_subjects_avrg\n",
              "0       grace     16.0         15  ...     18.0             59.5             14.875\n",
              "1       shade     16.5         13  ...     18.0             56.5             14.125\n",
              "2       ajoke      6.0         12  ...     10.0             35.0              8.750\n",
              "3    jeremiah      9.0         10  ...     12.0             36.0              9.000\n",
              "4   al-hassan     19.0         15  ...     18.0             62.0             15.500\n",
              "5       peace     12.5         13  ...     10.5             44.0             11.000\n",
              "6      aishat     10.0         12  ...     14.5             43.5             10.875\n",
              "7      tomiwa     16.0          9  ...     15.0             45.0             11.250\n",
              "8     ayomide      8.0          8  ...     16.5             39.5              9.875\n",
              "9     shallom     10.0          8  ...     16.0             41.0             10.250\n",
              "10     joshua      7.0          6  ...      9.0             28.0              7.000\n",
              "11    ezekiel      5.0         10  ...      5.0             27.0              6.750\n",
              "\n",
              "[12 rows x 7 columns]"
            ]
          },
          "metadata": {
            "tags": []
          },
          "execution_count": 14
        }
      ]
    },
    {
      "cell_type": "code",
      "metadata": {
        "colab": {
          "base_uri": "https://localhost:8080/",
          "height": 450
        },
        "id": "_hEHHKM5DF3s",
        "outputId": "c45eb904-d75b-4504-b460-ea587673fcd4"
      },
      "source": [
        "#bar plot showing their scores in biology\n",
        "\n",
        "fig = plt.figure(figsize=(10, 5))\n",
        "plt.bar(dataset.name,dataset.biology, color = 'rgbkymc')\n",
        "plt.ylim(0,20)\n",
        "plt.title(\"bar plot showing ss1 scores in biology\", fontsize = 15 )\n",
        "plt.ylabel(\"test score out of 20\", fontsize = 15 )\n",
        "plt.xlabel(\"student's names\",fontsize = 15 )\n",
        "plt.xticks(rotation = 45)\n",
        "plt.show();"
      ],
      "execution_count": 48,
      "outputs": [
        {
          "output_type": "stream",
          "text": [
            "/usr/local/lib/python3.7/dist-packages/ipykernel_launcher.py:4: MatplotlibDeprecationWarning: Using a string of single character colors as a color sequence is deprecated. Use an explicit list instead.\n",
            "  after removing the cwd from sys.path.\n"
          ],
          "name": "stderr"
        },
        {
          "output_type": "display_data",
          "data": {
            "image/png": "[encoded data removed]",
            "text/plain": [
              "<Figure size 720x360 with 1 Axes>"
            ]
          },
          "metadata": {
            "tags": []
          }
        }
      ]
    },
    {
      "cell_type": "code",
      "metadata": {
        "colab": {
          "base_uri": "https://localhost:8080/",
          "height": 450
        },
        "id": "5FSb_QFYDIt9",
        "outputId": "8b322635-12ae-4399-d0ab-6622357e9a19"
      },
      "source": [
        "#bar plot showing their scores in chemistry\n",
        "\n",
        "fig = plt.figure(figsize=(10, 5))\n",
        "plt.bar(dataset.name,dataset.chemistry, color = 'rgbkymc')\n",
        "plt.ylim(0,20)\n",
        "plt.title(\"bar plot showing ss1 scores in chemistry\", fontsize = 15 )\n",
        "plt.ylabel(\"test score out of 20\", fontsize = 15 )\n",
        "plt.xlabel(\"student's names\", fontsize = 15 )\n",
        "plt.xticks(rotation = 45)\n",
        "plt.show();"
      ],
      "execution_count": 45,
      "outputs": [
        {
          "output_type": "stream",
          "text": [
            "/usr/local/lib/python3.7/dist-packages/ipykernel_launcher.py:4: MatplotlibDeprecationWarning: Using a string of single character colors as a color sequence is deprecated. Use an explicit list instead.\n",
            "  after removing the cwd from sys.path.\n"
          ],
          "name": "stderr"
        },
        {
          "output_type": "display_data",
          "data": {
            "image/png": "[encoded data removed]",
            "text/plain": [
              "<Figure size 720x360 with 1 Axes>"
            ]
          },
          "metadata": {
            "tags": []
          }
        }
      ]
    },
    {
      "cell_type": "code",
      "metadata": {
        "colab": {
          "base_uri": "https://localhost:8080/",
          "height": 450
        },
        "id": "sQjWYWUCDMHe",
        "outputId": "43488960-e542-49f4-b60b-8eee3b108daa"
      },
      "source": [
        "#bar plot showing their scores in math\n",
        "\n",
        "fig = plt.figure(figsize=(10, 5))\n",
        "plt.bar(dataset.name,dataset.math, color = 'rgbkymc')\n",
        "plt.ylim(0,20)\n",
        "plt.title(\"bar plot showing ss1 scores in math\", fontsize = 15 )\n",
        "plt.ylabel(\"test score out of 20\", fontsize = 15 )\n",
        "plt.xlabel(\"student's names\", fontsize = 15 )\n",
        "plt.xticks(rotation = 45)\n",
        "plt.show();"
      ],
      "execution_count": 42,
      "outputs": [
        {
          "output_type": "stream",
          "text": [
            "/usr/local/lib/python3.7/dist-packages/ipykernel_launcher.py:4: MatplotlibDeprecationWarning: Using a string of single character colors as a color sequence is deprecated. Use an explicit list instead.\n",
            "  after removing the cwd from sys.path.\n"
          ],
          "name": "stderr"
        },
        {
          "output_type": "display_data",
          "data": {
            "image/png": "[encoded data removed]",
            "text/plain": [
              "<Figure size 720x360 with 1 Axes>"
            ]
          },
          "metadata": {
            "tags": []
          }
        }
      ]
    },
    {
      "cell_type": "code",
      "metadata": {
        "colab": {
          "base_uri": "https://localhost:8080/",
          "height": 450
        },
        "id": "FQl1Ny3CDPMV",
        "outputId": "eef55399-4dee-418f-e96f-b4e988358e6e"
      },
      "source": [
        "#bar plot showing their scores in physics\n",
        "\n",
        "fig = plt.figure(figsize=(10, 5))\n",
        "plt.bar(dataset.name,dataset.physics, color = 'rgbkymc')\n",
        "plt.ylim(0,20)\n",
        "plt.title(\"bar plot showing ss1 scores in physics\", fontsize = 15 )\n",
        "plt.ylabel(\"test score out of 20\", fontsize = 15 )\n",
        "plt.xlabel(\"student's names\",fontsize = 15 )\n",
        "plt.xticks(rotation = 45)\n",
        "plt.show();"
      ],
      "execution_count": 44,
      "outputs": [
        {
          "output_type": "stream",
          "text": [
            "/usr/local/lib/python3.7/dist-packages/ipykernel_launcher.py:4: MatplotlibDeprecationWarning: Using a string of single character colors as a color sequence is deprecated. Use an explicit list instead.\n",
            "  after removing the cwd from sys.path.\n"
          ],
          "name": "stderr"
        },
        {
          "output_type": "display_data",
          "data": {
            "image/png": "[encoded data removed]",
            "text/plain": [
              "<Figure size 720x360 with 1 Axes>"
            ]
          },
          "metadata": {
            "tags": []
          }
        }
      ]
    },
    {
      "cell_type": "code",
      "metadata": {
        "colab": {
          "base_uri": "https://localhost:8080/",
          "height": 447
        },
        "id": "lhZr691JDSEM",
        "outputId": "c2c03f8f-c365-4168-b007-c1f7af97e24f"
      },
      "source": [
        "#bar plot showing their scores in all subject sum\n",
        "\n",
        "fig = plt.figure(figsize=(10, 5))\n",
        "plt.bar(dataset.name,dataset.sum_all_subject, color = 'rgbkymc')\n",
        "plt.ylim(0,80)\n",
        "plt.title(\"bar plot showing ss1 total scores in all four subject\", fontsize = 13 )\n",
        "plt.ylabel(\"test score out of 80\", fontsize = 15 )\n",
        "plt.xlabel(\"student's names\", fontsize = 15 )\n",
        "plt.xticks(rotation = 45)\n",
        "plt.show();"
      ],
      "execution_count": 43,
      "outputs": [
        {
          "output_type": "stream",
          "text": [
            "/usr/local/lib/python3.7/dist-packages/ipykernel_launcher.py:4: MatplotlibDeprecationWarning: Using a string of single character colors as a color sequence is deprecated. Use an explicit list instead.\n",
            "  after removing the cwd from sys.path.\n"
          ],
          "name": "stderr"
        },
        {
          "output_type": "display_data",
          "data": {
            "image/png": "[encoded data removed]",
            "text/plain": [
              "<Figure size 720x360 with 1 Axes>"
            ]
          },
          "metadata": {
            "tags": []
          }
        }
      ]
    }
  ]
}